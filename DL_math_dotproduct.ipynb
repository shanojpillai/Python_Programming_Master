{
  "nbformat": 4,
  "nbformat_minor": 0,
  "metadata": {
    "colab": {
      "provenance": [],
      "authorship_tag": "ABX9TyN/XoKJuhc3WArGNFcEGq8C",
      "include_colab_link": true
    },
    "kernelspec": {
      "name": "python3",
      "display_name": "Python 3"
    },
    "language_info": {
      "name": "python"
    }
  },
  "cells": [
    {
      "cell_type": "markdown",
      "metadata": {
        "id": "view-in-github",
        "colab_type": "text"
      },
      "source": [
        "<a href=\"https://colab.research.google.com/github/shanojpillai/Python_Programming_Master/blob/main/DL_math_dotproduct.ipynb\" target=\"_parent\"><img src=\"https://colab.research.google.com/assets/colab-badge.svg\" alt=\"Open In Colab\"/></a>"
      ]
    },
    {
      "cell_type": "code",
      "execution_count": 1,
      "metadata": {
        "id": "bZOlJO7puotA"
      },
      "outputs": [],
      "source": [
        "#import libraries\n",
        "import numpy as np\n",
        "import torch"
      ]
    },
    {
      "cell_type": "code",
      "source": [
        "# create a vector\n",
        "nv1 = np.array([1,2,3,4])\n",
        "nv2 = np.array([0,1,0,-1])\n",
        "\n",
        "# dot product via fucntion\n",
        "print(np.dot(nv1,nv2))\n",
        "\n",
        "# dot product via computation\n",
        "print(np.sum( nv1*nv2))\n",
        "print(nv1)\n",
        "print(nv2)"
      ],
      "metadata": {
        "colab": {
          "base_uri": "https://localhost:8080/"
        },
        "id": "oFyrE71Ywo5u",
        "outputId": "d0b6ceb4-28e6-4c8f-de83-aee353f8aaa7"
      },
      "execution_count": 4,
      "outputs": [
        {
          "output_type": "stream",
          "name": "stdout",
          "text": [
            "-2\n",
            "-2\n",
            "[1 2 3 4]\n",
            "[ 0  1  0 -1]\n"
          ]
        }
      ]
    },
    {
      "cell_type": "markdown",
      "source": [
        "Using pytorch"
      ],
      "metadata": {
        "id": "FrtZlWerxyn0"
      }
    },
    {
      "cell_type": "code",
      "source": [
        "# ceate a vector\n",
        "\n",
        "tv1 = torch.tensor([1,2,3,4])\n",
        "tv2 = torch.tensor([0,1,0,-1])\n",
        "\n",
        "# dot product via function\n",
        "print(torch.dot(tv1,tv2))\n",
        "\n",
        "# dot product via computation\n",
        "\n",
        "print(torch.sum(tv1*tv2))"
      ],
      "metadata": {
        "colab": {
          "base_uri": "https://localhost:8080/"
        },
        "id": "EMf40_jox2vg",
        "outputId": "16a7422f-ac71-4631-c947-7a7c9282bbff"
      },
      "execution_count": 6,
      "outputs": [
        {
          "output_type": "stream",
          "name": "stdout",
          "text": [
            "tensor(-2)\n",
            "tensor(-2)\n"
          ]
        }
      ]
    }
  ]
}