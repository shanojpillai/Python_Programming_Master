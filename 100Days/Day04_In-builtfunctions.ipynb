{
 "cells": [
  {
   "cell_type": "markdown",
   "id": "90a5c200",
   "metadata": {},
   "source": [
    "<b>dir() </b>- displays all the function associated with an object "
   ]
  },
  {
   "cell_type": "code",
   "execution_count": 1,
   "id": "b40811bf",
   "metadata": {},
   "outputs": [],
   "source": [
    "lst = [1,2,3,4]"
   ]
  },
  {
   "cell_type": "code",
   "execution_count": 3,
   "id": "78ecbd68",
   "metadata": {},
   "outputs": [
    {
     "name": "stdout",
     "output_type": "stream",
     "text": [
      "['__add__', '__class__', '__contains__', '__delattr__', '__delitem__', '__dir__', '__doc__', '__eq__', '__format__', '__ge__', '__getattribute__', '__getitem__', '__gt__', '__hash__', '__iadd__', '__imul__', '__init__', '__init_subclass__', '__iter__', '__le__', '__len__', '__lt__', '__mul__', '__ne__', '__new__', '__reduce__', '__reduce_ex__', '__repr__', '__reversed__', '__rmul__', '__setattr__', '__setitem__', '__sizeof__', '__str__', '__subclasshook__', 'append', 'clear', 'copy', 'count', 'extend', 'index', 'insert', 'pop', 'remove', 'reverse', 'sort']\n"
     ]
    }
   ],
   "source": [
    "print(dir(lst))"
   ]
  },
  {
   "cell_type": "markdown",
   "id": "429ce786",
   "metadata": {},
   "source": [
    "<b> enumerate()</b> - enumerate() method adds a counter to an iterable and return it in a form of enumerated object."
   ]
  },
  {
   "cell_type": "code",
   "execution_count": 4,
   "id": "eeff3d09",
   "metadata": {},
   "outputs": [],
   "source": [
    "fruits = ['apple', 'manago', 'banana', 'grapes']"
   ]
  },
  {
   "cell_type": "code",
   "execution_count": 8,
   "id": "e450ddb3",
   "metadata": {},
   "outputs": [
    {
     "name": "stdout",
     "output_type": "stream",
     "text": [
      "0 apple\n",
      "1 manago\n",
      "2 banana\n",
      "3 grapes\n"
     ]
    }
   ],
   "source": [
    "for idx, ele in enumerate(fruits):\n",
    "    print(idx, ele)"
   ]
  },
  {
   "cell_type": "code",
   "execution_count": 9,
   "id": "2be43b86",
   "metadata": {},
   "outputs": [
    {
     "name": "stdout",
     "output_type": "stream",
     "text": [
      "1 apple\n",
      "2 manago\n",
      "3 banana\n",
      "4 grapes\n"
     ]
    }
   ],
   "source": [
    "for idx, ele in enumerate(fruits, 1):\n",
    "    print(idx, ele)"
   ]
  },
  {
   "cell_type": "markdown",
   "id": "107c7256",
   "metadata": {},
   "source": [
    " <b>Aggregation Function</b>"
   ]
  },
  {
   "cell_type": "code",
   "execution_count": 10,
   "id": "1e615aa2",
   "metadata": {},
   "outputs": [],
   "source": [
    "lst = [3,6,8,2,5,1,0]"
   ]
  },
  {
   "cell_type": "code",
   "execution_count": 11,
   "id": "12a3d2e3",
   "metadata": {},
   "outputs": [
    {
     "data": {
      "text/plain": [
       "25"
      ]
     },
     "execution_count": 11,
     "metadata": {},
     "output_type": "execute_result"
    }
   ],
   "source": [
    "sum(lst)"
   ]
  },
  {
   "cell_type": "code",
   "execution_count": 12,
   "id": "2548782e",
   "metadata": {},
   "outputs": [
    {
     "data": {
      "text/plain": [
       "8"
      ]
     },
     "execution_count": 12,
     "metadata": {},
     "output_type": "execute_result"
    }
   ],
   "source": [
    "max(lst)"
   ]
  },
  {
   "cell_type": "markdown",
   "id": "87349ac1",
   "metadata": {},
   "source": [
    "<b>Map</b> applies a function to all the items of an iterable"
   ]
  },
  {
   "cell_type": "code",
   "execution_count": 13,
   "id": "46d66adb",
   "metadata": {},
   "outputs": [],
   "source": [
    "def add_one(x):\n",
    "    return x+1"
   ]
  },
  {
   "cell_type": "code",
   "execution_count": 14,
   "id": "654fa604",
   "metadata": {},
   "outputs": [
    {
     "data": {
      "text/plain": [
       "101"
      ]
     },
     "execution_count": 14,
     "metadata": {},
     "output_type": "execute_result"
    }
   ],
   "source": [
    "add_one(100)"
   ]
  },
  {
   "cell_type": "code",
   "execution_count": 15,
   "id": "c83d5bb0",
   "metadata": {},
   "outputs": [
    {
     "name": "stdout",
     "output_type": "stream",
     "text": [
      "[3, 6, 8, 2, 5, 1, 0]\n"
     ]
    }
   ],
   "source": [
    "print(lst)"
   ]
  },
  {
   "cell_type": "code",
   "execution_count": 16,
   "id": "aa33426e",
   "metadata": {},
   "outputs": [
    {
     "data": {
      "text/plain": [
       "<map at 0x7f22d8428350>"
      ]
     },
     "execution_count": 16,
     "metadata": {},
     "output_type": "execute_result"
    }
   ],
   "source": [
    "map(add_one, lst)"
   ]
  },
  {
   "cell_type": "code",
   "execution_count": 17,
   "id": "5b901fd9",
   "metadata": {},
   "outputs": [],
   "source": [
    "map_ele = map(add_one, lst)"
   ]
  },
  {
   "cell_type": "code",
   "execution_count": 18,
   "id": "c1040d19",
   "metadata": {},
   "outputs": [
    {
     "data": {
      "text/plain": [
       "[4, 7, 9, 3, 6, 2, 1]"
      ]
     },
     "execution_count": 18,
     "metadata": {},
     "output_type": "execute_result"
    }
   ],
   "source": [
    "list(map_ele)"
   ]
  },
  {
   "cell_type": "markdown",
   "id": "0a37b700",
   "metadata": {},
   "source": [
    " <b>Filter </b>- The filter() method consturcts and iterator from elements of an iterable for which a function returns true."
   ]
  },
  {
   "cell_type": "code",
   "execution_count": 19,
   "id": "e87ab6ed",
   "metadata": {},
   "outputs": [
    {
     "data": {
      "text/plain": [
       "[6, 8, 2, 0]"
      ]
     },
     "execution_count": 19,
     "metadata": {},
     "output_type": "execute_result"
    }
   ],
   "source": [
    "list(filter(lambda x: x%2==0, lst))"
   ]
  },
  {
   "cell_type": "markdown",
   "id": "120ecd79",
   "metadata": {},
   "source": [
    "<b> Reduce </b>\n",
    "\n",
    "- reduce() function is for performing some compuation on a list and returing the result.\n",
    "- It applies a rolling computation to sequential pairs of values in a list."
   ]
  },
  {
   "cell_type": "code",
   "execution_count": 22,
   "id": "bc5a3bad",
   "metadata": {},
   "outputs": [
    {
     "name": "stdout",
     "output_type": "stream",
     "text": [
      "120\n"
     ]
    }
   ],
   "source": [
    "# product of elements in a list\n",
    "\n",
    "lst = [1,2,3,4,5]\n",
    "\n",
    "# traditional way without reduce\n",
    "\n",
    "product = 1\n",
    "for num in lst:\n",
    "    product *=num\n",
    "    \n",
    "print(product)"
   ]
  },
  {
   "cell_type": "code",
   "execution_count": 23,
   "id": "71409e27",
   "metadata": {},
   "outputs": [],
   "source": [
    "from functools import reduce"
   ]
  },
  {
   "cell_type": "code",
   "execution_count": 24,
   "id": "6a5f1067",
   "metadata": {},
   "outputs": [],
   "source": [
    "def multiply(x, y):\n",
    "    return x*y"
   ]
  },
  {
   "cell_type": "code",
   "execution_count": 25,
   "id": "4e0ac8df",
   "metadata": {},
   "outputs": [],
   "source": [
    "product = reduce(multiply, lst)"
   ]
  },
  {
   "cell_type": "code",
   "execution_count": 26,
   "id": "f22a3f37",
   "metadata": {},
   "outputs": [
    {
     "name": "stdout",
     "output_type": "stream",
     "text": [
      "120\n"
     ]
    }
   ],
   "source": [
    "print(product)"
   ]
  },
  {
   "cell_type": "code",
   "execution_count": 28,
   "id": "c4d0321f",
   "metadata": {},
   "outputs": [
    {
     "data": {
      "text/plain": [
       "120"
      ]
     },
     "execution_count": 28,
     "metadata": {},
     "output_type": "execute_result"
    }
   ],
   "source": [
    "reduce(lambda x, y : x*y, lst)"
   ]
  },
  {
   "cell_type": "code",
   "execution_count": 30,
   "id": "15a82c50",
   "metadata": {},
   "outputs": [
    {
     "ename": "TypeError",
     "evalue": "sum expected at most 2 arguments, got 3",
     "output_type": "error",
     "traceback": [
      "\u001b[0;31m---------------------------------------------------------------------------\u001b[0m",
      "\u001b[0;31mTypeError\u001b[0m                                 Traceback (most recent call last)",
      "\u001b[0;32m<ipython-input-30-095a87429aa5>\u001b[0m in \u001b[0;36m<module>\u001b[0;34m\u001b[0m\n\u001b[0;32m----> 1\u001b[0;31m \u001b[0msum\u001b[0m\u001b[0;34m(\u001b[0m\u001b[0;36m2\u001b[0m\u001b[0;34m,\u001b[0m\u001b[0;36m4\u001b[0m\u001b[0;34m,\u001b[0m\u001b[0;36m6\u001b[0m\u001b[0;34m)\u001b[0m\u001b[0;34m\u001b[0m\u001b[0;34m\u001b[0m\u001b[0m\n\u001b[0m",
      "\u001b[0;31mTypeError\u001b[0m: sum expected at most 2 arguments, got 3"
     ]
    }
   ],
   "source": [
    "sum(2,4,6)"
   ]
  },
  {
   "cell_type": "code",
   "execution_count": 31,
   "id": "d13d6dbc",
   "metadata": {},
   "outputs": [
    {
     "data": {
      "text/plain": [
       "6"
      ]
     },
     "execution_count": 31,
     "metadata": {},
     "output_type": "execute_result"
    }
   ],
   "source": [
    "sum([1,2,3])"
   ]
  },
  {
   "cell_type": "code",
   "execution_count": 32,
   "id": "c77b9f4f",
   "metadata": {},
   "outputs": [
    {
     "data": {
      "text/plain": [
       "False"
      ]
     },
     "execution_count": 32,
     "metadata": {},
     "output_type": "execute_result"
    }
   ],
   "source": [
    "min(max(False,-3,-4), 2,7)"
   ]
  },
  {
   "cell_type": "code",
   "execution_count": 33,
   "id": "17d8a3ec",
   "metadata": {},
   "outputs": [
    {
     "data": {
      "text/plain": [
       "[(0, 2), (1, 3)]"
      ]
     },
     "execution_count": 33,
     "metadata": {},
     "output_type": "execute_result"
    }
   ],
   "source": [
    "list(enumerate([2, 3]))"
   ]
  },
  {
   "cell_type": "code",
   "execution_count": 34,
   "id": "ed8dd789",
   "metadata": {},
   "outputs": [
    {
     "data": {
      "text/plain": [
       "1"
      ]
     },
     "execution_count": 34,
     "metadata": {},
     "output_type": "execute_result"
    }
   ],
   "source": [
    "x=3\n",
    "eval('x^2')"
   ]
  },
  {
   "cell_type": "code",
   "execution_count": null,
   "id": "4962df1d",
   "metadata": {},
   "outputs": [],
   "source": []
  }
 ],
 "metadata": {
  "kernelspec": {
   "display_name": "python37",
   "language": "python",
   "name": "python37"
  },
  "language_info": {
   "codemirror_mode": {
    "name": "ipython",
    "version": 3
   },
   "file_extension": ".py",
   "mimetype": "text/x-python",
   "name": "python",
   "nbconvert_exporter": "python",
   "pygments_lexer": "ipython3",
   "version": "3.7.10"
  }
 },
 "nbformat": 4,
 "nbformat_minor": 5
}
