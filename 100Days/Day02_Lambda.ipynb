{
 "cells": [
  {
   "cell_type": "markdown",
   "id": "21abfbc6",
   "metadata": {},
   "source": [
    "# Lambda Function"
   ]
  },
  {
   "cell_type": "markdown",
   "id": "687ffda6",
   "metadata": {},
   "source": [
    "Lambda functions in Python are anonymous functions, meaning they are functions without a name. They are defined using the lambda keyword, followed by the arguments and a colon, and then the expression. Lambda functions are typically used for creating simple functions that consist of a single expression. They are often used when a function is needed for a short period of time or when a function is required as an argument to other functions.\n",
    "\n",
    "\n",
    "Here's a brief overview of lambda functions in Python:\n",
    "\n",
    "- <b>Definition:</b> Lambda functions are defined using the lambda keyword followed by the arguments and a colon, and then the expression. For example, lambda x: x * 2 defines a lambda function that takes an argument x and returns x * 2.\n",
    "\n",
    "- <b>Use Cases:</b> Lambda functions are commonly used with functions like map(), filter(), and sorted(), where a simple function is required for a short period of time. They are also used in situations where a named function is not necessary.\n",
    "\n",
    "- <b>Limitations:</b> Lambda functions are limited to a single expression and cannot contain statements or annotations."
   ]
  },
  {
   "cell_type": "code",
   "execution_count": 22,
   "id": "0d987f06",
   "metadata": {},
   "outputs": [],
   "source": [
    "add = lambda a,b : a+b"
   ]
  },
  {
   "cell_type": "code",
   "execution_count": 23,
   "id": "9a000009",
   "metadata": {},
   "outputs": [
    {
     "data": {
      "text/plain": [
       "7"
      ]
     },
     "execution_count": 23,
     "metadata": {},
     "output_type": "execute_result"
    }
   ],
   "source": [
    "add(3,4)"
   ]
  },
  {
   "cell_type": "code",
   "execution_count": 24,
   "id": "28a8ca0e",
   "metadata": {},
   "outputs": [
    {
     "data": {
      "text/plain": [
       "0"
      ]
     },
     "execution_count": 24,
     "metadata": {},
     "output_type": "execute_result"
    }
   ],
   "source": [
    "(lambda x,y : x+y if x+y>0 else 0) (5,-40)"
   ]
  },
  {
   "cell_type": "code",
   "execution_count": 25,
   "id": "d8749e58",
   "metadata": {},
   "outputs": [],
   "source": [
    "fun = (lambda x,y: x+y if x+y > 0 else 0)"
   ]
  },
  {
   "cell_type": "code",
   "execution_count": 26,
   "id": "2a1830dd",
   "metadata": {},
   "outputs": [
    {
     "data": {
      "text/plain": [
       "0"
      ]
     },
     "execution_count": 26,
     "metadata": {},
     "output_type": "execute_result"
    }
   ],
   "source": [
    "fun (5, -60)"
   ]
  },
  {
   "cell_type": "code",
   "execution_count": 27,
   "id": "33ca52a8",
   "metadata": {},
   "outputs": [],
   "source": [
    "names = [('Prateek', 5), ('Mohit', 2), ('Abhi', 6)]"
   ]
  },
  {
   "cell_type": "code",
   "execution_count": 28,
   "id": "c5087480",
   "metadata": {},
   "outputs": [
    {
     "data": {
      "text/plain": [
       "[('Abhi', 6), ('Mohit', 2), ('Prateek', 5)]"
      ]
     },
     "execution_count": 28,
     "metadata": {},
     "output_type": "execute_result"
    }
   ],
   "source": [
    "sorted(names)"
   ]
  },
  {
   "cell_type": "code",
   "execution_count": 29,
   "id": "d8211b77",
   "metadata": {},
   "outputs": [
    {
     "data": {
      "text/plain": [
       "[('Mohit', 2), ('Prateek', 5), ('Abhi', 6)]"
      ]
     },
     "execution_count": 29,
     "metadata": {},
     "output_type": "execute_result"
    }
   ],
   "source": [
    "sorted(names, key = lambda x: x[1])"
   ]
  },
  {
   "cell_type": "markdown",
   "id": "77cce0e6",
   "metadata": {},
   "source": [
    "# Function Question :\n",
    "<b>Q-1</b> Write a function to find least common multiple (LCM) of a, b"
   ]
  },
  {
   "cell_type": "code",
   "execution_count": 30,
   "id": "98dc7505",
   "metadata": {},
   "outputs": [],
   "source": [
    "def LCM(a, b):\n",
    "    \"\"\"returns LCM\"\"\"\n",
    "    max_num = (a if a>b else b)\n",
    "    \n",
    "    while True:\n",
    "        if ((max_num%a==0) and (max_num%b==0)):\n",
    "            return max_num\n",
    "        else:\n",
    "            max_num+=1"
   ]
  },
  {
   "cell_type": "code",
   "execution_count": 31,
   "id": "1278ade0",
   "metadata": {},
   "outputs": [
    {
     "data": {
      "text/plain": [
       "36"
      ]
     },
     "execution_count": 31,
     "metadata": {},
     "output_type": "execute_result"
    }
   ],
   "source": [
    "LCM(4, 18)"
   ]
  },
  {
   "cell_type": "markdown",
   "id": "dd71e286",
   "metadata": {},
   "source": [
    "Let's break down this function and understand how it calculates the Least Common Multiple (LCM) of two numbers."
   ]
  },
  {
   "cell_type": "markdown",
   "id": "25d41fe4",
   "metadata": {},
   "source": [
    "<ol>\n",
    "<li><b>Finding the Starting Point:</b> max_num = (a if a>b else b) - This line determines the larger of the two numbers a and b and assigns it to max_num. The logic is that the LCM of two numbers cannot be smaller than the larger of the two numbers, so it's a good point to start checking for LCM.</li>\n",
    "\n",
    "<li><b>While Loop:</b> while True - This is an infinite loop. It will keep running until it is explicitly broken out of, which in this case happens when the LCM is found.</li>\n",
    "\n",
    "<li><b>LCM Check:</b> if ((max_num%a==0) and (max_num%b==0)): - Inside the loop, the code checks whether max_num is divisible by both a and b (i.e., max_num % a == 0 and max_num % b == 0). The % operator is the modulus operator in Python, which gives the remainder of the division of two numbers. If max_num is divisible by both a and b, it means max_num is a common multiple of both.\n",
    "\n",
    "<li><b>Return LCM:</b> return max_num - If the above condition is true, max_num is the LCM and is returned from the function.</li>\n",
    "\n",
    "<li><b>Incrementing max_num: else:</b> max_num+=1 - If max_num is not a common multiple of a and b, then max_num is incremented by 1, and the loop continues to check the next number.</li>\n",
    "</ol>\n",
    "The logic of the function is to start with the larger of the two numbers and keep incrementing until a number is found that is a multiple of both a and b. This is a brute-force method and can be inefficient for large numbers, but it is straightforward and easy to understand."
   ]
  },
  {
   "cell_type": "markdown",
   "id": "ea9db441",
   "metadata": {},
   "source": [
    " "
   ]
  },
  {
   "cell_type": "markdown",
   "id": "6b713703",
   "metadata": {},
   "source": [
    " "
   ]
  },
  {
   "cell_type": "markdown",
   "id": "ed4a47d3",
   "metadata": {},
   "source": [
    "# Option -2"
   ]
  },
  {
   "attachments": {
    "5ef8a42d-af8a-4e4a-bedb-04a6b4b19db4.png": {
     "image/png": "[encoded data removed]"
    }
   },
   "cell_type": "markdown",
   "id": "514a20a4",
   "metadata": {},
   "source": [
    "The Least Common Multiple (LCM) of two numbers is the smallest number that is a multiple of both. To find the LCM in Python, a common method is to use the Greatest Common Divisor (GCD) as a helper. The LCM of two numbers a and b can be calculated using the formula:\n",
    "\n",
    "\n",
    " ![image.png](attachment:5ef8a42d-af8a-4e4a-bedb-04a6b4b19db4.png)\n",
    "\n",
    "To implement this in Python, we can use the gcd function from the math module to find the GCD, and then calculate the LCM using the above formula. Here's how you can do it:"
   ]
  },
  {
   "cell_type": "code",
   "execution_count": 32,
   "id": "d4cccbea",
   "metadata": {},
   "outputs": [
    {
     "name": "stdout",
     "output_type": "stream",
     "text": [
      "The LCM of 15 and 20 is: 60\n"
     ]
    }
   ],
   "source": [
    "import math\n",
    "\n",
    "def lcm(a, b):\n",
    "    return abs(a*b) // math.gcd(a, b)\n",
    "\n",
    "# Example usage\n",
    "a = 15\n",
    "b = 20\n",
    "print(f\"The LCM of {a} and {b} is: {lcm(a, b)}\")\n"
   ]
  },
  {
   "cell_type": "markdown",
   "id": "1417e58f",
   "metadata": {},
   "source": [
    "In this function:\n",
    "<ol>\n",
    "<li>math.gcd(a, b) computes the greatest common divisor of a and b.</li>\n",
    "<li>abs(a*b) calculates the absolute value of the product of a and b. This is important in case one or both numbers are negative.</li>\n",
    "<li>We use integer division (//) to ensure the result is an integer.</li>\n",
    "<li>You can test this function with different values of a and b to see how it works.</li>\n",
    "    </ol>"
   ]
  },
  {
   "cell_type": "code",
   "execution_count": null,
   "id": "02f87b6b",
   "metadata": {},
   "outputs": [],
   "source": []
  },
  {
   "cell_type": "code",
   "execution_count": null,
   "id": "a1ea059c",
   "metadata": {},
   "outputs": [],
   "source": []
  }
 ],
 "metadata": {
  "kernelspec": {
   "display_name": "python37",
   "language": "python",
   "name": "python37"
  },
  "language_info": {
   "codemirror_mode": {
    "name": "ipython",
    "version": 3
   },
   "file_extension": ".py",
   "mimetype": "text/x-python",
   "name": "python",
   "nbconvert_exporter": "python",
   "pygments_lexer": "ipython3",
   "version": "3.7.10"
  }
 },
 "nbformat": 4,
 "nbformat_minor": 5
}
