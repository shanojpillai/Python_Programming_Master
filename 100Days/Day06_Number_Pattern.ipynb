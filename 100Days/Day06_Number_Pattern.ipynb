{
 "cells": [
  {
   "cell_type": "code",
   "execution_count": 3,
   "id": "1b41606f",
   "metadata": {},
   "outputs": [],
   "source": [
    "def patternNumber(n):\n",
    "    val = 1\n",
    "    \n",
    "    for i in range(1,n+1):\n",
    "        \n",
    "        for j in range(1, i+1):\n",
    "            print(val, end=\"\")\n",
    "            val = val +1\n",
    "        print(\"\\n\")"
   ]
  },
  {
   "cell_type": "code",
   "execution_count": 5,
   "id": "4759840b",
   "metadata": {},
   "outputs": [
    {
     "name": "stdin",
     "output_type": "stream",
     "text": [
      " 23\n"
     ]
    },
    {
     "name": "stdout",
     "output_type": "stream",
     "text": [
      "1\n",
      "\n",
      "23\n",
      "\n",
      "456\n",
      "\n",
      "78910\n",
      "\n",
      "1112131415\n",
      "\n",
      "161718192021\n",
      "\n",
      "22232425262728\n",
      "\n",
      "2930313233343536\n",
      "\n",
      "373839404142434445\n",
      "\n",
      "46474849505152535455\n",
      "\n",
      "5657585960616263646566\n",
      "\n",
      "676869707172737475767778\n",
      "\n",
      "79808182838485868788899091\n",
      "\n",
      "9293949596979899100101102103104105\n",
      "\n",
      "106107108109110111112113114115116117118119120\n",
      "\n",
      "121122123124125126127128129130131132133134135136\n",
      "\n",
      "137138139140141142143144145146147148149150151152153\n",
      "\n",
      "154155156157158159160161162163164165166167168169170171\n",
      "\n",
      "172173174175176177178179180181182183184185186187188189190\n",
      "\n",
      "191192193194195196197198199200201202203204205206207208209210\n",
      "\n",
      "211212213214215216217218219220221222223224225226227228229230231\n",
      "\n",
      "232233234235236237238239240241242243244245246247248249250251252253\n",
      "\n",
      "254255256257258259260261262263264265266267268269270271272273274275276\n",
      "\n"
     ]
    }
   ],
   "source": [
    "if __name__ == \"__main__\":\n",
    "    n = int(input())\n",
    "    patternNumber(n)"
   ]
  },
  {
   "cell_type": "markdown",
   "id": "96b7c968",
   "metadata": {},
   "source": [
    "val = 1 - This initializes a variable val to 1. val will be used to print the numbers in the pattern.\n",
    "\n",
    "for i in range(1, n + 1): - This for-loop iterates from 1 to n (inclusive). The variable i represents the current line number.\n",
    "\n",
    "for j in range(1, i + 1): - This nested for-loop iterates from 1 to i (inclusive). For each line i, it runs i times. It's responsible for printing the numbers on a single line.\n",
    "\n",
    "print(val, end=\"\") - This prints the current value of val without moving to the next line (end=\"\" keeps the cursor on the same line). After each print, val is incremented by 1.\n",
    "print(\"\\n\") - This prints a newline character, moving the output to the next line after finishing the current line's number printing.\n",
    "\n",
    "Main Block if __name__ == \"__main__\":\n",
    "This is a common Python idiom for indicating the part of the script that should run when the script is executed as a standalone file (as opposed to being imported as a module in another script).\n",
    "\n",
    "n = int(input()) - This line gets input from the user, converts it to an integer, and stores it in the variable n.\n",
    "\n",
    "patternNumber(n) - This calls the patternNumber function with the user-provided n.\n",
    "\n",
    "Example\n",
    "If n = 3, the output would be:\n",
    "\n",
    "Copy code\n",
    "1\n",
    "23\n",
    "456"
   ]
  },
  {
   "cell_type": "code",
   "execution_count": null,
   "id": "bf53e5dc",
   "metadata": {},
   "outputs": [],
   "source": []
  }
 ],
 "metadata": {
  "kernelspec": {
   "display_name": "python37",
   "language": "python",
   "name": "python37"
  },
  "language_info": {
   "codemirror_mode": {
    "name": "ipython",
    "version": 3
   },
   "file_extension": ".py",
   "mimetype": "text/x-python",
   "name": "python",
   "nbconvert_exporter": "python",
   "pygments_lexer": "ipython3",
   "version": "3.7.10"
  }
 },
 "nbformat": 4,
 "nbformat_minor": 5
}
