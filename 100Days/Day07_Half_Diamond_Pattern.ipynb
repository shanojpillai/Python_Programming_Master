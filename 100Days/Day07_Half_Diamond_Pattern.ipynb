{
 "cells": [
  {
   "cell_type": "markdown",
   "id": "032eefa0",
   "metadata": {},
   "source": [
    "The function diamondPattern(n) is designed to print a diamond-shaped pattern of asterisks (*) for a given size n. Here's a breakdown of how the function works:\n",
    "\n",
    "### Upper Half of the Diamond:\n",
    "\n",
    "The first for loop iterates from 1 to n inclusive. The variable i represents the current row number.\n",
    "Inside this loop, there are two print statements that work together to print each line of the diamond's upper half.\n",
    "print(\" \" * (n - i), end='') prints the spaces needed to align the stars in a diamond shape. The number of spaces decreases with each subsequent row (n - i), moving the stars to the right.\n",
    "print(\"*\" * (2*i - 1)) prints the stars. The number of stars is determined by the formula (2*i - 1), which ensures an odd number of stars is printed to maintain the diamond shape. This formula starts with 1 star at the top (i = 1) and increases by 2 stars with each subsequent row.\n",
    "\n",
    "\n",
    "###Lower Half of the Diamond:\n",
    "\n",
    "The second for loop iterates from n-1 down to 1. This loop will print the lower half of the diamond in reverse order.\n",
    "This loop also contains two print statements that perform similar actions to the first loop but in reverse.\n",
    "print(\" \" * (n - i), end='') still prints the spaces needed for alignment. However, as i decreases from n-1 to 1, the number of spaces increases, moving the stars to the left.\n",
    "print(\"*\" * (2*i - 1)) prints the stars for the lower half, starting with 2*(n-1) - 1 stars and decreasing by 2 stars with each row until it prints 1 star at the bottom.\n",
    "When diamondPattern(5) is called, the function prints the following:\n",
    "\n",
    "    *     (1 star, 4 spaces on the left)\n",
    "   ***    (3 stars, 3 spaces on the left)\n",
    "  *****   (5 stars, 2 spaces on the left)\n",
    " *******  (7 stars, 1 space on the left)\n",
    "********* (9 stars, 0 spaces on the left)\n",
    " *******  (7 stars, 1 space on the left, starting the lower half)\n",
    "  *****   (5 stars, 2 spaces on the left)\n",
    "   ***    (3 stars, 3 spaces on the left)\n",
    "    *     (1 star, 4 spaces on the left)\n"
   ]
  },
  {
   "cell_type": "code",
   "execution_count": 11,
   "id": "c73243bd",
   "metadata": {},
   "outputs": [
    {
     "name": "stdout",
     "output_type": "stream",
     "text": [
      "    *\n",
      "   ***\n",
      "  *****\n",
      " *******\n",
      "*********\n",
      " *******\n",
      "  *****\n",
      "   ***\n",
      "    *\n"
     ]
    }
   ],
   "source": [
    "def diamondPattern(n):\n",
    "    # Print the upper half of the diamond\n",
    "    for i in range(1, n+1):\n",
    "        print(\" \" * (n - i) + \"*\" * (2*i - 1))\n",
    "    \n",
    "    # Print the lower half of the diamond\n",
    "    for i in range(n-1, 0, -1):\n",
    "        print(\" \" * (n - i) + \"*\" * (2*i - 1))\n",
    "\n",
    "# Let's test the function with N=5\n",
    "diamondPattern(5)"
   ]
  },
  {
   "cell_type": "code",
   "execution_count": null,
   "id": "8fb8eba6",
   "metadata": {},
   "outputs": [],
   "source": []
  }
 ],
 "metadata": {
  "kernelspec": {
   "display_name": "python37",
   "language": "python",
   "name": "python37"
  },
  "language_info": {
   "codemirror_mode": {
    "name": "ipython",
    "version": 3
   },
   "file_extension": ".py",
   "mimetype": "text/x-python",
   "name": "python",
   "nbconvert_exporter": "python",
   "pygments_lexer": "ipython3",
   "version": "3.7.10"
  }
 },
 "nbformat": 4,
 "nbformat_minor": 5
}
