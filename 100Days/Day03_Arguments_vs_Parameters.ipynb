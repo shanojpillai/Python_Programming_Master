{
 "cells": [
  {
   "cell_type": "markdown",
   "id": "5f814e16",
   "metadata": {},
   "source": [
    "# Function Arguments  Vs Parameters"
   ]
  },
  {
   "cell_type": "markdown",
   "id": "7a95dec2",
   "metadata": {},
   "source": [
    "- Positional arguments \n",
    "- Default arguments \n",
    "- arbitary arguments (args)\n",
    "- Keyword arguments (kwargs)"
   ]
  },
  {
   "cell_type": "markdown",
   "id": "bfa85090",
   "metadata": {},
   "source": [
    "# Position Arguments\n",
    "- they are required to pass."
   ]
  },
  {
   "cell_type": "code",
   "execution_count": 2,
   "id": "e85d2b19",
   "metadata": {},
   "outputs": [],
   "source": [
    "def intro(name, nationality):\n",
    "    print(\"My name is\", name)\n",
    "    Print(\"I'm, nationality\")"
   ]
  },
  {
   "cell_type": "code",
   "execution_count": 3,
   "id": "59fa1d30",
   "metadata": {},
   "outputs": [
    {
     "ename": "TypeError",
     "evalue": "intro() missing 1 required positional argument: 'nationality'",
     "output_type": "error",
     "traceback": [
      "\u001b[0;31m---------------------------------------------------------------------------\u001b[0m",
      "\u001b[0;31mTypeError\u001b[0m                                 Traceback (most recent call last)",
      "\u001b[0;32m<ipython-input-3-9caf66a9bfc5>\u001b[0m in \u001b[0;36m<module>\u001b[0;34m\u001b[0m\n\u001b[0;32m----> 1\u001b[0;31m \u001b[0mintro\u001b[0m\u001b[0;34m(\u001b[0m\u001b[0;34m\"shanoj\"\u001b[0m\u001b[0;34m)\u001b[0m\u001b[0;34m\u001b[0m\u001b[0;34m\u001b[0m\u001b[0m\n\u001b[0m",
      "\u001b[0;31mTypeError\u001b[0m: intro() missing 1 required positional argument: 'nationality'"
     ]
    }
   ],
   "source": [
    "intro(\"shanoj\")"
   ]
  },
  {
   "cell_type": "markdown",
   "id": "22c24569",
   "metadata": {},
   "source": [
    "# Default arguments\n",
    "- parameters that have some default valuses. They're optional paramaters.\n",
    "- default parametes always comes after psotional parameters."
   ]
  },
  {
   "cell_type": "code",
   "execution_count": 8,
   "id": "5a1c0b0b",
   "metadata": {},
   "outputs": [],
   "source": [
    "def intro(name, nationality = 'Indian'):\n",
    "    print(\"My name is \", name)\n",
    "    print(\"I'm\", nationality)"
   ]
  },
  {
   "cell_type": "code",
   "execution_count": 9,
   "id": "1c6695ff",
   "metadata": {},
   "outputs": [
    {
     "name": "stdout",
     "output_type": "stream",
     "text": [
      "My name is  Shanoj\n",
      "I'm Indian\n"
     ]
    }
   ],
   "source": [
    "#works without giving nationality\n",
    "intro(\"Shanoj\")"
   ]
  },
  {
   "cell_type": "code",
   "execution_count": 10,
   "id": "74539bea",
   "metadata": {},
   "outputs": [
    {
     "name": "stdout",
     "output_type": "stream",
     "text": [
      "My name is  John\n",
      "I'm American\n"
     ]
    }
   ],
   "source": [
    "# default nationality changed to american\n",
    "intro(\"John\", \"American\")"
   ]
  },
  {
   "cell_type": "markdown",
   "id": "3b164d3d",
   "metadata": {},
   "source": [
    "# Arbitary arguments\n",
    "- it can recive any number of arguments and store them in a tuple"
   ]
  },
  {
   "cell_type": "code",
   "execution_count": 17,
   "id": "4a66d1e0",
   "metadata": {},
   "outputs": [],
   "source": [
    "def args_func(*args):\n",
    "    print(args)\n",
    "    print(type(args))\n",
    "    \n",
    "    for i in args:\n",
    "        print(i**2)"
   ]
  },
  {
   "cell_type": "code",
   "execution_count": 18,
   "id": "c672243d",
   "metadata": {},
   "outputs": [
    {
     "name": "stdout",
     "output_type": "stream",
     "text": [
      "(4, 6, 8)\n",
      "<class 'tuple'>\n",
      "16\n",
      "36\n",
      "64\n"
     ]
    }
   ],
   "source": [
    "args_func(4,6,8)"
   ]
  },
  {
   "cell_type": "markdown",
   "id": "d420c21c",
   "metadata": {},
   "source": [
    "# Keyword arguments(**kwargs)\n",
    "- it also takes any number of arguments and stores in form of dictionary.\n",
    "- parameter name is mandatory while calling function"
   ]
  },
  {
   "cell_type": "code",
   "execution_count": 20,
   "id": "ba99e6a1",
   "metadata": {},
   "outputs": [],
   "source": [
    "def introduction(**kwargs):\n",
    "    print(kwargs)\n",
    "    print(type(kwargs))\n",
    "    \n",
    "    for k,v in kwargs.items():\n",
    "        print(k, \":\", v)"
   ]
  },
  {
   "cell_type": "code",
   "execution_count": 21,
   "id": "56728d4f",
   "metadata": {},
   "outputs": [
    {
     "name": "stdout",
     "output_type": "stream",
     "text": [
      "{'name': 'Shanoj', 'age': 40, 'hobby': ['writing', 'coding'], 'nationality': 'Indian'}\n",
      "<class 'dict'>\n",
      "name : Shanoj\n",
      "age : 40\n",
      "hobby : ['writing', 'coding']\n",
      "nationality : Indian\n"
     ]
    }
   ],
   "source": [
    "introduction(name=\"Shanoj\", age=40, hobby = ['writing', 'coding'], nationality = 'Indian')"
   ]
  },
  {
   "cell_type": "code",
   "execution_count": 22,
   "id": "e1bd4bcb",
   "metadata": {},
   "outputs": [],
   "source": [
    "def combination(a,b,c, age=18, *args, **kwargs):\n",
    "    print(a,b,c,age)\n",
    "    print(args)\n",
    "    print(kwargs)"
   ]
  },
  {
   "cell_type": "code",
   "execution_count": 23,
   "id": "56bae840",
   "metadata": {},
   "outputs": [
    {
     "name": "stdout",
     "output_type": "stream",
     "text": [
      "100 200 300 400\n",
      "(500, 600)\n",
      "{'x': 78, 'y': 99, 'z': 0.0}\n"
     ]
    }
   ],
   "source": [
    "combination(100,200,300,400,500,600, x= 78, y=99, z=0.0)"
   ]
  },
  {
   "cell_type": "code",
   "execution_count": 26,
   "id": "22f779dd",
   "metadata": {},
   "outputs": [
    {
     "name": "stdout",
     "output_type": "stream",
     "text": [
      "[0] [0, 1] [0, 1, 2] "
     ]
    }
   ],
   "source": [
    "def foo(i, x=[]):\n",
    "    x.append(i)\n",
    "    return x\n",
    "\n",
    "for i in range(3):\n",
    "    print(foo(i), end=\" \")"
   ]
  },
  {
   "cell_type": "code",
   "execution_count": 27,
   "id": "5da651b4",
   "metadata": {},
   "outputs": [
    {
     "name": "stdout",
     "output_type": "stream",
     "text": [
      "True\n"
     ]
    }
   ],
   "source": [
    "def foo(x):\n",
    "    x[0] = ['def']\n",
    "    x[1] = ['abc']\n",
    "    return id(x)\n",
    " \n",
    "q = ['abc', 'def']\n",
    "print(id(q) == foo(q))"
   ]
  },
  {
   "cell_type": "code",
   "execution_count": null,
   "id": "d31d3cc3",
   "metadata": {},
   "outputs": [],
   "source": []
  }
 ],
 "metadata": {
  "kernelspec": {
   "display_name": "python37",
   "language": "python",
   "name": "python37"
  },
  "language_info": {
   "codemirror_mode": {
    "name": "ipython",
    "version": 3
   },
   "file_extension": ".py",
   "mimetype": "text/x-python",
   "name": "python",
   "nbconvert_exporter": "python",
   "pygments_lexer": "ipython3",
   "version": "3.7.10"
  }
 },
 "nbformat": 4,
 "nbformat_minor": 5
}
