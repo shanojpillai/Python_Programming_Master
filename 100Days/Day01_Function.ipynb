{
 "cells": [
  {
   "cell_type": "code",
   "execution_count": 11,
   "id": "7a990b91",
   "metadata": {},
   "outputs": [],
   "source": [
    "#function definition\n",
    "\n",
    "def greetings(name):\n",
    "    \"\"\" This function will greet you\n",
    "    \"\"\"\n",
    "    \n",
    "    print(\"Good Morning\", name)"
   ]
  },
  {
   "cell_type": "code",
   "execution_count": 2,
   "id": "f83894ed",
   "metadata": {},
   "outputs": [
    {
     "name": "stdout",
     "output_type": "stream",
     "text": [
      "<function greetings at 0x7f342c07ecb0>\n"
     ]
    }
   ],
   "source": [
    "print(greetings)"
   ]
  },
  {
   "cell_type": "code",
   "execution_count": 3,
   "id": "a4090d63",
   "metadata": {},
   "outputs": [
    {
     "data": {
      "text/plain": [
       "function"
      ]
     },
     "execution_count": 3,
     "metadata": {},
     "output_type": "execute_result"
    }
   ],
   "source": [
    "type(greetings)"
   ]
  },
  {
   "cell_type": "code",
   "execution_count": 10,
   "id": "2830eda2",
   "metadata": {},
   "outputs": [
    {
     "name": "stdout",
     "output_type": "stream",
     "text": [
      "Good Morning name\n"
     ]
    }
   ],
   "source": [
    "greetings('shanoj')"
   ]
  },
  {
   "cell_type": "code",
   "execution_count": 12,
   "id": "5e963237",
   "metadata": {},
   "outputs": [
    {
     "data": {
      "text/plain": [
       "' This function will greet you\\n    '"
      ]
     },
     "execution_count": 12,
     "metadata": {},
     "output_type": "execute_result"
    }
   ],
   "source": [
    "greetings.__doc__"
   ]
  },
  {
   "cell_type": "markdown",
   "id": "ef3148af",
   "metadata": {},
   "source": [
    "The return Keyword:\n",
    "\n",
    "- The return statement is used to exit a function and go back to the place from where it was called.\n",
    "- return statement can contain an expression which gets evaluated and the value is returned\n",
    "- if there is no expression in the statement or the return statement itself is not present inside a function, then the function will return NONE object "
   ]
  },
  {
   "cell_type": "code",
   "execution_count": 13,
   "id": "afa3cad7",
   "metadata": {},
   "outputs": [],
   "source": [
    "def add(a, b):\n",
    "    \"\"\"It will return sum of 2 numbers\"\"\"\n",
    "    c = a+b\n",
    "    return c"
   ]
  },
  {
   "cell_type": "code",
   "execution_count": 15,
   "id": "1ccf2fe3",
   "metadata": {},
   "outputs": [
    {
     "data": {
      "text/plain": [
       "9"
      ]
     },
     "execution_count": 15,
     "metadata": {},
     "output_type": "execute_result"
    }
   ],
   "source": [
    "add(4,5)\n",
    "#it is not printing, it's return value"
   ]
  },
  {
   "cell_type": "code",
   "execution_count": 16,
   "id": "2e334282",
   "metadata": {},
   "outputs": [],
   "source": [
    "def product(lst):\n",
    "    \"\"\"Paramater :\n",
    "    lst : it is a list\n",
    "    return : prouct of all elements in a list\"\"\"\n",
    "    \n",
    "    p =1\n",
    "    for i in lst:\n",
    "        p*=i\n",
    "        \n",
    "    return p   \n",
    "    "
   ]
  },
  {
   "cell_type": "code",
   "execution_count": 17,
   "id": "d29c36e1",
   "metadata": {},
   "outputs": [],
   "source": [
    "lst = [5, 3, 2, 4, 1]"
   ]
  },
  {
   "cell_type": "code",
   "execution_count": 18,
   "id": "d6b61545",
   "metadata": {},
   "outputs": [
    {
     "data": {
      "text/plain": [
       "120"
      ]
     },
     "execution_count": 18,
     "metadata": {},
     "output_type": "execute_result"
    }
   ],
   "source": [
    "product(lst)"
   ]
  },
  {
   "cell_type": "markdown",
   "id": "427868d1",
   "metadata": {},
   "source": [
    "Note: fucntion can retuyrn multiple values in form of a tuple"
   ]
  },
  {
   "cell_type": "code",
   "execution_count": 19,
   "id": "60569aa5",
   "metadata": {},
   "outputs": [],
   "source": [
    "def calculator(a, b):\n",
    "    \"\"\"calcualtes and return basic 4 operations\"\"\"\n",
    "    \n",
    "    res1 = a + b\n",
    "    res2 = a - b\n",
    "    res3 = a * b\n",
    "    res4 = a / b\n",
    "    \n",
    "    return res1, res2, res3, res4"
   ]
  },
  {
   "cell_type": "code",
   "execution_count": 21,
   "id": "e7f032d0",
   "metadata": {},
   "outputs": [
    {
     "data": {
      "text/plain": [
       "(19, -1, 90, 0.9)"
      ]
     },
     "execution_count": 21,
     "metadata": {},
     "output_type": "execute_result"
    }
   ],
   "source": [
    "calculator(9, 10)"
   ]
  },
  {
   "cell_type": "markdown",
   "id": "8c4af545",
   "metadata": {},
   "source": [
    "Scope of a Variable:\n",
    "- Scope of a variable is the portion of a program where the variable is recoginzed\n",
    "\n",
    "Global Variable - Variables that are crerated outside of a fucntion are known as global variables - Global variables can be used by anywhere in the program (inside or outside of a function)\n",
    "\n",
    "Local Variable - Variables defined inside a function known as Local Variables. Hence they have a local scope - Local variables cannot be used outside a function."
   ]
  },
  {
   "cell_type": "code",
   "execution_count": 24,
   "id": "d88e8e1d",
   "metadata": {},
   "outputs": [
    {
     "name": "stdout",
     "output_type": "stream",
     "text": [
      "22\n",
      "45\n"
     ]
    }
   ],
   "source": [
    "# Global vaiable\n",
    "x = 45 \n",
    "\n",
    "def new_func():\n",
    "# Local Variable    \n",
    "    x = 22\n",
    "    print(x)\n",
    "    \n",
    "new_func()\n",
    "print(x)"
   ]
  },
  {
   "cell_type": "code",
   "execution_count": null,
   "id": "643b5368",
   "metadata": {},
   "outputs": [],
   "source": []
  }
 ],
 "metadata": {
  "kernelspec": {
   "display_name": "python37",
   "language": "python",
   "name": "python37"
  },
  "language_info": {
   "codemirror_mode": {
    "name": "ipython",
    "version": 3
   },
   "file_extension": ".py",
   "mimetype": "text/x-python",
   "name": "python",
   "nbconvert_exporter": "python",
   "pygments_lexer": "ipython3",
   "version": "3.7.10"
  }
 },
 "nbformat": 4,
 "nbformat_minor": 5
}
