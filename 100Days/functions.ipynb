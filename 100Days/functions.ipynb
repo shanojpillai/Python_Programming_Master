{
 "cells": [
  {
   "cell_type": "code",
   "execution_count": 1,
   "id": "51f6feca",
   "metadata": {},
   "outputs": [
    {
     "data": {
      "text/plain": [
       "60"
      ]
     },
     "execution_count": 1,
     "metadata": {},
     "output_type": "execute_result"
    }
   ],
   "source": [
    "sum([10,20,30])"
   ]
  },
  {
   "cell_type": "code",
   "execution_count": 2,
   "id": "b0e5c404",
   "metadata": {},
   "outputs": [],
   "source": [
    "lst = [10,20,30]"
   ]
  },
  {
   "cell_type": "code",
   "execution_count": 4,
   "id": "ddf44668",
   "metadata": {},
   "outputs": [
    {
     "data": {
      "text/plain": [
       "60"
      ]
     },
     "execution_count": 4,
     "metadata": {},
     "output_type": "execute_result"
    }
   ],
   "source": [
    "sum(lst)"
   ]
  },
  {
   "cell_type": "code",
   "execution_count": 6,
   "id": "ef41cd98",
   "metadata": {},
   "outputs": [
    {
     "data": {
      "text/plain": [
       "3"
      ]
     },
     "execution_count": 6,
     "metadata": {},
     "output_type": "execute_result"
    }
   ],
   "source": [
    "len(lst)"
   ]
  },
  {
   "cell_type": "code",
   "execution_count": 9,
   "id": "952d9029",
   "metadata": {},
   "outputs": [],
   "source": [
    "import numpy as np"
   ]
  },
  {
   "cell_type": "code",
   "execution_count": 8,
   "id": "bdd93d6a",
   "metadata": {},
   "outputs": [
    {
     "data": {
      "text/plain": [
       "20.0"
      ]
     },
     "execution_count": 8,
     "metadata": {},
     "output_type": "execute_result"
    }
   ],
   "source": [
    "numpy.mean(lst)"
   ]
  },
  {
   "cell_type": "code",
   "execution_count": 11,
   "id": "74ff3c9d",
   "metadata": {},
   "outputs": [
    {
     "data": {
      "text/plain": [
       "20.0"
      ]
     },
     "execution_count": 11,
     "metadata": {},
     "output_type": "execute_result"
    }
   ],
   "source": [
    "np.mean(lst)"
   ]
  },
  {
   "cell_type": "code",
   "execution_count": 12,
   "id": "faba2fff",
   "metadata": {},
   "outputs": [
    {
     "data": {
      "text/plain": [
       "array([ 1.        ,  5.15789474,  9.31578947, 13.47368421, 17.63157895,\n",
       "       21.78947368, 25.94736842, 30.10526316, 34.26315789, 38.42105263,\n",
       "       42.57894737, 46.73684211, 50.89473684, 55.05263158, 59.21052632,\n",
       "       63.36842105, 67.52631579, 71.68421053, 75.84210526, 80.        ])"
      ]
     },
     "execution_count": 12,
     "metadata": {},
     "output_type": "execute_result"
    }
   ],
   "source": [
    "np.linspace(1,80,20)"
   ]
  },
  {
   "cell_type": "code",
   "execution_count": 14,
   "id": "0c267be2",
   "metadata": {},
   "outputs": [
    {
     "name": "stdout",
     "output_type": "stream",
     "text": [
      "[4, 6, 7, 3, 4, 5, 7, 9, 1]\n",
      "[1, 3, 4, 4, 5, 6, 7, 7, 9]\n"
     ]
    }
   ],
   "source": [
    "n = [4,6,7,3,4,5,7,9,1]\n",
    "print(n)\n",
    "n.sort()\n",
    "print(n)"
   ]
  },
  {
   "cell_type": "code",
   "execution_count": 15,
   "id": "9eb3b900",
   "metadata": {},
   "outputs": [],
   "source": [
    "import pandas as pd"
   ]
  },
  {
   "cell_type": "code",
   "execution_count": 17,
   "id": "b3a5289c",
   "metadata": {},
   "outputs": [],
   "source": [
    "# Create some randon data \n",
    "var1 = np.random.randn(100)*5 +20"
   ]
  },
  {
   "cell_type": "code",
   "execution_count": 18,
   "id": "c7293341",
   "metadata": {},
   "outputs": [
    {
     "data": {
      "text/plain": [
       "array([ 8.74731125, 13.91411106, 26.84081843, 10.18187544, 13.57508623,\n",
       "       23.43623573, 16.5872768 ,  9.3272593 , 28.72175937, 24.71999344,\n",
       "       20.35446051, 21.11551196, 22.92974031, 21.13899813, 27.08298956,\n",
       "       18.98476333, 18.19997293, 14.08278064, 22.76955344, 25.80217781,\n",
       "       20.00332786, 19.41323025, 11.59964112, 15.57393702, 17.61282504,\n",
       "       15.90497485, 17.0491765 , 21.49968382, 23.75473884, 17.03658528,\n",
       "       23.71269075, 18.78904018, 23.72353874, 21.53722775, 21.38367671,\n",
       "       24.9996467 , 18.89377382, 17.86181292, 13.90341766, 19.54809812,\n",
       "       21.53239644, 21.48692648, 17.67104907, 16.71686177, 17.68539533,\n",
       "       21.67983433, 25.90897761,  9.77655906, 16.19971711, 20.87070415,\n",
       "       20.91259228, 19.54504994, 25.05196856, 13.45084619, 15.190326  ,\n",
       "       14.6446309 , 18.87763456, 18.77388451, 14.2665555 , 23.68484135,\n",
       "       27.34061356, 23.04965698, 18.14543452, 17.31588116, 23.0150622 ,\n",
       "       19.41738448, 34.44576725, 17.69724583, 21.29488133, 19.53783775,\n",
       "       21.99060964, 25.82760965, 15.06304287, 17.43015745, 12.14562972,\n",
       "       18.85228017, 18.06201087, 22.7218697 , 17.77718652,  5.95449607,\n",
       "       30.87415089, 20.23912943, 12.09417691, 19.18909968, 19.05630449,\n",
       "       15.69242421, 23.21322343, 16.19323627, 16.97849363, 19.1181197 ,\n",
       "       23.97217529, 15.0699242 , 14.27555178, 23.6747376 , 19.15720855,\n",
       "       21.46451762, 21.29811644, 11.76803472, 15.21479538, 15.66760423])"
      ]
     },
     "execution_count": 18,
     "metadata": {},
     "output_type": "execute_result"
    }
   ],
   "source": [
    "var1"
   ]
  },
  {
   "cell_type": "code",
   "execution_count": 19,
   "id": "17c7f392",
   "metadata": {},
   "outputs": [],
   "source": [
    "df  = pd.DataFrame(data = var1)"
   ]
  },
  {
   "cell_type": "code",
   "execution_count": 21,
   "id": "7117be39",
   "metadata": {},
   "outputs": [],
   "source": [
    "df1 = pd.DataFrame(var1)"
   ]
  },
  {
   "cell_type": "code",
   "execution_count": 22,
   "id": "03e90b68",
   "metadata": {},
   "outputs": [
    {
     "data": {
      "text/html": [
       "<div>\n",
       "<style scoped>\n",
       "    .dataframe tbody tr th:only-of-type {\n",
       "        vertical-align: middle;\n",
       "    }\n",
       "\n",
       "    .dataframe tbody tr th {\n",
       "        vertical-align: top;\n",
       "    }\n",
       "\n",
       "    .dataframe thead th {\n",
       "        text-align: right;\n",
       "    }\n",
       "</style>\n",
       "<table border=\"1\" class=\"dataframe\">\n",
       "  <thead>\n",
       "    <tr style=\"text-align: right;\">\n",
       "      <th></th>\n",
       "      <th>0</th>\n",
       "    </tr>\n",
       "  </thead>\n",
       "  <tbody>\n",
       "    <tr>\n",
       "      <th>0</th>\n",
       "      <td>8.747311</td>\n",
       "    </tr>\n",
       "    <tr>\n",
       "      <th>1</th>\n",
       "      <td>13.914111</td>\n",
       "    </tr>\n",
       "    <tr>\n",
       "      <th>2</th>\n",
       "      <td>26.840818</td>\n",
       "    </tr>\n",
       "    <tr>\n",
       "      <th>3</th>\n",
       "      <td>10.181875</td>\n",
       "    </tr>\n",
       "    <tr>\n",
       "      <th>4</th>\n",
       "      <td>13.575086</td>\n",
       "    </tr>\n",
       "    <tr>\n",
       "      <th>...</th>\n",
       "      <td>...</td>\n",
       "    </tr>\n",
       "    <tr>\n",
       "      <th>95</th>\n",
       "      <td>21.464518</td>\n",
       "    </tr>\n",
       "    <tr>\n",
       "      <th>96</th>\n",
       "      <td>21.298116</td>\n",
       "    </tr>\n",
       "    <tr>\n",
       "      <th>97</th>\n",
       "      <td>11.768035</td>\n",
       "    </tr>\n",
       "    <tr>\n",
       "      <th>98</th>\n",
       "      <td>15.214795</td>\n",
       "    </tr>\n",
       "    <tr>\n",
       "      <th>99</th>\n",
       "      <td>15.667604</td>\n",
       "    </tr>\n",
       "  </tbody>\n",
       "</table>\n",
       "<p>100 rows × 1 columns</p>\n",
       "</div>"
      ],
      "text/plain": [
       "            0\n",
       "0    8.747311\n",
       "1   13.914111\n",
       "2   26.840818\n",
       "3   10.181875\n",
       "4   13.575086\n",
       "..        ...\n",
       "95  21.464518\n",
       "96  21.298116\n",
       "97  11.768035\n",
       "98  15.214795\n",
       "99  15.667604\n",
       "\n",
       "[100 rows x 1 columns]"
      ]
     },
     "execution_count": 22,
     "metadata": {},
     "output_type": "execute_result"
    }
   ],
   "source": [
    "df1"
   ]
  },
  {
   "cell_type": "code",
   "execution_count": 23,
   "id": "11a5be48",
   "metadata": {},
   "outputs": [
    {
     "data": {
      "text/html": [
       "<div>\n",
       "<style scoped>\n",
       "    .dataframe tbody tr th:only-of-type {\n",
       "        vertical-align: middle;\n",
       "    }\n",
       "\n",
       "    .dataframe tbody tr th {\n",
       "        vertical-align: top;\n",
       "    }\n",
       "\n",
       "    .dataframe thead th {\n",
       "        text-align: right;\n",
       "    }\n",
       "</style>\n",
       "<table border=\"1\" class=\"dataframe\">\n",
       "  <thead>\n",
       "    <tr style=\"text-align: right;\">\n",
       "      <th></th>\n",
       "      <th>0</th>\n",
       "    </tr>\n",
       "  </thead>\n",
       "  <tbody>\n",
       "    <tr>\n",
       "      <th>0</th>\n",
       "      <td>8.747311</td>\n",
       "    </tr>\n",
       "    <tr>\n",
       "      <th>1</th>\n",
       "      <td>13.914111</td>\n",
       "    </tr>\n",
       "    <tr>\n",
       "      <th>2</th>\n",
       "      <td>26.840818</td>\n",
       "    </tr>\n",
       "    <tr>\n",
       "      <th>3</th>\n",
       "      <td>10.181875</td>\n",
       "    </tr>\n",
       "    <tr>\n",
       "      <th>4</th>\n",
       "      <td>13.575086</td>\n",
       "    </tr>\n",
       "    <tr>\n",
       "      <th>...</th>\n",
       "      <td>...</td>\n",
       "    </tr>\n",
       "    <tr>\n",
       "      <th>95</th>\n",
       "      <td>21.464518</td>\n",
       "    </tr>\n",
       "    <tr>\n",
       "      <th>96</th>\n",
       "      <td>21.298116</td>\n",
       "    </tr>\n",
       "    <tr>\n",
       "      <th>97</th>\n",
       "      <td>11.768035</td>\n",
       "    </tr>\n",
       "    <tr>\n",
       "      <th>98</th>\n",
       "      <td>15.214795</td>\n",
       "    </tr>\n",
       "    <tr>\n",
       "      <th>99</th>\n",
       "      <td>15.667604</td>\n",
       "    </tr>\n",
       "  </tbody>\n",
       "</table>\n",
       "<p>100 rows × 1 columns</p>\n",
       "</div>"
      ],
      "text/plain": [
       "            0\n",
       "0    8.747311\n",
       "1   13.914111\n",
       "2   26.840818\n",
       "3   10.181875\n",
       "4   13.575086\n",
       "..        ...\n",
       "95  21.464518\n",
       "96  21.298116\n",
       "97  11.768035\n",
       "98  15.214795\n",
       "99  15.667604\n",
       "\n",
       "[100 rows x 1 columns]"
      ]
     },
     "execution_count": 23,
     "metadata": {},
     "output_type": "execute_result"
    }
   ],
   "source": [
    "df"
   ]
  },
  {
   "cell_type": "code",
   "execution_count": null,
   "id": "8f77d8be",
   "metadata": {},
   "outputs": [],
   "source": []
  }
 ],
 "metadata": {
  "kernelspec": {
   "display_name": "python37",
   "language": "python",
   "name": "python37"
  },
  "language_info": {
   "codemirror_mode": {
    "name": "ipython",
    "version": 3
   },
   "file_extension": ".py",
   "mimetype": "text/x-python",
   "name": "python",
   "nbconvert_exporter": "python",
   "pygments_lexer": "ipython3",
   "version": "3.7.10"
  }
 },
 "nbformat": 4,
 "nbformat_minor": 5
}
